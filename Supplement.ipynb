{
 "cells": [
  {
   "cell_type": "markdown",
   "metadata": {},
   "source": [
    "# *Supplement to*\n",
    "# Predicting the influence of particle size on the glass transition temperature and viscosity of secondary organic material\n",
    "\n",
    "Markus Petters<sup>1,*</sup> and Sabin Kasparoglu<sup>1</sup>\n",
    "\n",
    "<sup>1</sup> NC State University, Department of Marine, Earth, and Atmospheric Sciences, Raleigh, 27695-8208, USA <br>\n",
    "<sup>*</sup> mdpetter@ncsu.edu\n",
    "\n",
    "This supplements contains the computer code to generate the figures displayed in the manuscript. All software is available as \"free software\" as defined by the free software foundation (FSF). Code created herein is licensed under the GPL-v3 license. The scripts are written in the julia language v1.4.0. Documentation on the julia language can be found on https://julialang.org/\n",
    "\n",
    "To run the code use \"Cell\" -> \"Run All Below\" or hit CTRL-Enter on individual cells. The julia scripts can also be executed individually from the julia interpreter. To run the code, julia and jupyter need to be installed. The compute environment is specified in the ```Project.toml``` and ```Manifest.toml``` file. The defualt font used by ```Gadfly.jl``` is PT Sans, which is an open source font that needs to be installed on the local machine.\n",
    "\n",
    "The ```Dockerfile``` contains generic installation instructions and can be used to create a docker container image."
   ]
  },
  {
   "cell_type": "code",
   "execution_count": null,
   "metadata": {},
   "outputs": [],
   "source": [
    "include(\"f01.jl\")\n",
    "Gadfly.set_default_plot_size(5Gadfly.inch, 2.75Gadfly.inch)\n",
    "display(p)"
   ]
  },
  {
   "cell_type": "markdown",
   "metadata": {},
   "source": [
    "**Figure 1.** Summary of literature data for the size melting point depression versus size."
   ]
  },
  {
   "cell_type": "code",
   "execution_count": null,
   "metadata": {},
   "outputs": [],
   "source": [
    "include(\"f02.jl\")\n",
    "Gadfly.set_default_plot_size(3.75Gadfly.inch, 2.75Gadfly.inch)\n",
    "display(p)"
   ]
  },
  {
   "cell_type": "markdown",
   "metadata": {},
   "source": [
    "**Figure 2.** Angell representation of viscosity scaled by Tg."
   ]
  },
  {
   "cell_type": "code",
   "execution_count": null,
   "metadata": {},
   "outputs": [],
   "source": [
    "include(\"f03.jl\")\n",
    "Gadfly.set_default_plot_size(12.3Gadfly.cm, 2.75Gadfly.inch)\n",
    "display(p)"
   ]
  },
  {
   "cell_type": "markdown",
   "metadata": {},
   "source": [
    "**Figure 3.** Measured and predicted viscosity of α-pinene SOA at room temperature as a function of relative humidity."
   ]
  },
  {
   "cell_type": "code",
   "execution_count": null,
   "metadata": {},
   "outputs": [],
   "source": [
    "include(\"f04.jl\")\n",
    "Gadfly.set_default_plot_size(6Gadfly.inch, 3Gadfly.inch)\n",
    "display(p)"
   ]
  },
  {
   "cell_type": "markdown",
   "metadata": {},
   "source": [
    "**Figure 4.** Measured and predicted viscosity of α-pinene SOA at room temperature as a function of particle diameter."
   ]
  },
  {
   "cell_type": "code",
   "execution_count": null,
   "metadata": {},
   "outputs": [],
   "source": [
    "include(\"fs01.jl\")\n",
    "Gadfly.set_default_plot_size(5Gadfly.inch, 2.75Gadfly.inch)\n",
    "display(p)"
   ]
  },
  {
   "cell_type": "markdown",
   "metadata": {},
   "source": [
    "**Figure S1.** Summary of literature data for mass-based hygroscopicity parameter."
   ]
  },
  {
   "cell_type": "code",
   "execution_count": null,
   "metadata": {},
   "outputs": [],
   "source": [
    "include(\"fs02.jl\")\n",
    "Gadfly.set_default_plot_size(4Gadfly.inch, 2.75Gadfly.inch)\n",
    "display(p)"
   ]
  },
  {
   "cell_type": "markdown",
   "metadata": {},
   "source": [
    "**Figure S2.** Ratio of glass-transition temperature and melting temperature for individual compounds."
   ]
  },
  {
   "cell_type": "code",
   "execution_count": null,
   "metadata": {},
   "outputs": [],
   "source": [
    "include(\"fs03.jl\")\n",
    "Gadfly.set_default_plot_size(11Gadfly.inch, 3Gadfly.inch)\n",
    "display(p)"
   ]
  },
  {
   "cell_type": "markdown",
   "metadata": {},
   "source": [
    "**Figure S3.** Predicted viscosity of α-pinene SOA as a function of particle diameter."
   ]
  }
 ],
 "metadata": {
  "@webio": {
   "lastCommId": null,
   "lastKernelId": null
  },
  "kernelspec": {
   "display_name": "Julia 1.4.0",
   "language": "julia",
   "name": "julia-1.4"
  },
  "language_info": {
   "file_extension": ".jl",
   "mimetype": "application/julia",
   "name": "julia",
   "version": "1.4.0"
  }
 },
 "nbformat": 4,
 "nbformat_minor": 2
}
